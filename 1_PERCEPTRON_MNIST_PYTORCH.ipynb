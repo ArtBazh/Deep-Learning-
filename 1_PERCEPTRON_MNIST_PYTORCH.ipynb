{
 "cells": [
  {
   "cell_type": "code",
   "execution_count": 1,
   "id": "9d3ec8ae",
   "metadata": {},
   "outputs": [],
   "source": [
    "import torch\n",
    "import torch.nn as nn\n",
    "import torch.nn.functional as F\n",
    "import torchvision as tv\n",
    "\n",
    "import numpy as np\n",
    "import matplotlib.pyplot as plt\n",
    "%matplotlib inline\n",
    "import cv2\n",
    "import os\n",
    "from tqdm import tqdm"
   ]
  },
  {
   "cell_type": "code",
   "execution_count": 2,
   "id": "d5749aa9",
   "metadata": {},
   "outputs": [],
   "source": [
    "trans = tv.transforms.Compose([\n",
    "    tv.transforms.ToTensor()\n",
    "])"
   ]
  },
  {
   "cell_type": "code",
   "execution_count": 3,
   "id": "a8712e99",
   "metadata": {},
   "outputs": [],
   "source": [
    "ds_mnist = tv.datasets.MNIST('C:\\\\DATA\\\\DATA_ROOT\\\\', transform=trans ,download=True)"
   ]
  },
  {
   "cell_type": "code",
   "execution_count": 4,
   "id": "a095e8c6",
   "metadata": {},
   "outputs": [
    {
     "data": {
      "text/plain": [
       "Dataset MNIST\n",
       "    Number of datapoints: 60000\n",
       "    Root location: C:\\DATA\\DATA_ROOT\\\n",
       "    Split: Train\n",
       "    StandardTransform\n",
       "Transform: Compose(\n",
       "               ToTensor()\n",
       "           )"
      ]
     },
     "execution_count": 4,
     "metadata": {},
     "output_type": "execute_result"
    }
   ],
   "source": [
    "ds_mnist"
   ]
  },
  {
   "cell_type": "code",
   "execution_count": 5,
   "id": "9b66a045",
   "metadata": {
    "scrolled": true
   },
   "outputs": [
    {
     "data": {
      "text/plain": [
       "torch.Size([1, 28, 28])"
      ]
     },
     "execution_count": 5,
     "metadata": {},
     "output_type": "execute_result"
    }
   ],
   "source": [
    "ds_mnist[0][0].shape"
   ]
  },
  {
   "cell_type": "code",
   "execution_count": 6,
   "id": "c5550a11",
   "metadata": {},
   "outputs": [
    {
     "data": {
      "text/plain": [
       "(28, 28)"
      ]
     },
     "execution_count": 6,
     "metadata": {},
     "output_type": "execute_result"
    }
   ],
   "source": [
    "ds_mnist[0][0].numpy()[0].shape"
   ]
  },
  {
   "cell_type": "code",
   "execution_count": 7,
   "id": "e97fd52b",
   "metadata": {},
   "outputs": [
    {
     "data": {
      "image/png": "[encoded data removed]",
      "text/plain": [
       "<Figure size 640x480 with 1 Axes>"
      ]
     },
     "metadata": {},
     "output_type": "display_data"
    }
   ],
   "source": [
    "plt.imshow(ds_mnist[0][0].numpy()[0], 'gray');\n",
    "plt.title('Image from MNIST Dataset');"
   ]
  },
  {
   "cell_type": "code",
   "execution_count": 8,
   "id": "cac15f63",
   "metadata": {},
   "outputs": [],
   "source": [
    "dataloader = torch.utils.data.DataLoader(ds_mnist, batch_size=16, shuffle=True, num_workers=0,drop_last=True)"
   ]
  },
  {
   "cell_type": "code",
   "execution_count": 9,
   "id": "14c092c1",
   "metadata": {},
   "outputs": [
    {
     "name": "stdout",
     "output_type": "stream",
     "text": [
      "torch.Size([16, 1, 28, 28])\n",
      "torch.Size([16])\n"
     ]
    }
   ],
   "source": [
    "for img, label in dataloader:\n",
    "    print(img.shape)\n",
    "    print(label.shape)\n",
    "    break"
   ]
  },
  {
   "cell_type": "code",
   "execution_count": 10,
   "id": "74ad084c",
   "metadata": {},
   "outputs": [],
   "source": [
    "class Nueral_numbers(nn.Module):\n",
    "    def __init__(self):\n",
    "        super().__init__()\n",
    "        \n",
    "        self.flatten = nn.Flatten()\n",
    "        self.linear1 = nn.Linear(28*28, 200) # Первый слой\n",
    "        self.linear1_1 = nn.Linear(200, 200) # Второй слой\n",
    "        self.linear2 = nn.Linear(200, 10) # Последний слой\n",
    "        self.activation = nn.ReLU() # Активационная функция ReLu\n",
    "        \n",
    "    def forward(self, x):\n",
    "        out = self.flatten(x)\n",
    "        out = self.linear1(out)\n",
    "        out = self.activation(out)\n",
    "        out = self.linear1_1(out)\n",
    "        out = self.activation(out)\n",
    "        out = self.linear2(out)\n",
    "        return out"
   ]
  },
  {
   "cell_type": "code",
   "execution_count": 11,
   "id": "26afdc20",
   "metadata": {},
   "outputs": [],
   "source": [
    "model = Nueral_numbers()"
   ]
  },
  {
   "cell_type": "code",
   "execution_count": 12,
   "id": "70a03582",
   "metadata": {},
   "outputs": [],
   "source": [
    "device = 'cuda'\n",
    "model = model.to(device)\n",
    "loss_fn = nn.CrossEntropyLoss().to(device)"
   ]
  },
  {
   "cell_type": "code",
   "execution_count": 13,
   "id": "cc24be07",
   "metadata": {},
   "outputs": [],
   "source": [
    "#optimizer = torch.optim.SGD(model.parameters(), lr=1e-3, momentum=0.9)"
   ]
  },
  {
   "cell_type": "code",
   "execution_count": 14,
   "id": "16cd22d0",
   "metadata": {},
   "outputs": [],
   "source": [
    "optimizer = torch.optim.Adam(model.parameters(), lr=1e-3)"
   ]
  },
  {
   "cell_type": "code",
   "execution_count": 15,
   "id": "3c6fc6b8",
   "metadata": {},
   "outputs": [],
   "source": [
    "def accuracy(prediction, label):\n",
    "    answer = F.softmax(prediction.detach(),dim=1).numpy().argmax(1) == label.numpy().argmax(1)\n",
    "#     print(answer)\n",
    "#     print(answer.sum())\n",
    "    return answer.mean()"
   ]
  },
  {
   "cell_type": "code",
   "execution_count": 16,
   "id": "72efac21",
   "metadata": {},
   "outputs": [
    {
     "name": "stderr",
     "output_type": "stream",
     "text": [
      "loss: 0.28806  Accuracy: 0.938: 100%|█████████████████████████████████████████████| 3750/3750 [00:15<00:00, 246.45it/s]\n"
     ]
    },
    {
     "name": "stdout",
     "output_type": "stream",
     "text": [
      "0.214\n",
      "0.935\n"
     ]
    },
    {
     "name": "stderr",
     "output_type": "stream",
     "text": [
      "loss: 0.19134  Accuracy: 0.938: 100%|█████████████████████████████████████████████| 3750/3750 [00:17<00:00, 215.70it/s]\n"
     ]
    },
    {
     "name": "stdout",
     "output_type": "stream",
     "text": [
      "0.093\n",
      "0.971\n"
     ]
    },
    {
     "name": "stderr",
     "output_type": "stream",
     "text": [
      "loss: 0.00052  Accuracy: 1.000: 100%|█████████████████████████████████████████████| 3750/3750 [00:17<00:00, 209.14it/s]\n"
     ]
    },
    {
     "name": "stdout",
     "output_type": "stream",
     "text": [
      "0.064\n",
      "0.980\n"
     ]
    },
    {
     "name": "stderr",
     "output_type": "stream",
     "text": [
      "loss: 0.04890  Accuracy: 0.938: 100%|█████████████████████████████████████████████| 3750/3750 [00:16<00:00, 229.99it/s]\n"
     ]
    },
    {
     "name": "stdout",
     "output_type": "stream",
     "text": [
      "0.051\n",
      "0.983\n"
     ]
    },
    {
     "name": "stderr",
     "output_type": "stream",
     "text": [
      "loss: 0.00015  Accuracy: 1.000: 100%|█████████████████████████████████████████████| 3750/3750 [00:18<00:00, 208.32it/s]"
     ]
    },
    {
     "name": "stdout",
     "output_type": "stream",
     "text": [
      "0.039\n",
      "0.988\n"
     ]
    },
    {
     "name": "stderr",
     "output_type": "stream",
     "text": [
      "\n"
     ]
    }
   ],
   "source": [
    "epochs = 5\n",
    "for epoch in range(epochs):\n",
    "    x=0\n",
    "    loss_val = 0\n",
    "    acc_val = 0\n",
    "    for img, label in (pbar := tqdm(dataloader)):\n",
    "        optimizer.zero_grad()\n",
    "        img = img.to(device)\n",
    "        \n",
    "        label = F.one_hot(label, 10).float().to(device)\n",
    "        label = label.float().to(device)\n",
    "        prediction = model(img)\n",
    "        loss = loss_fn(prediction, label)\n",
    "\n",
    "        loss.backward()\n",
    "        loss_item = loss.item()\n",
    "        loss_val += loss.item()\n",
    "        \n",
    "        \n",
    "        optimizer.step()\n",
    "        acc_current = accuracy(prediction.cpu(), label.cpu())\n",
    "        acc_val += acc_current\n",
    "        \n",
    "        if x==100:\n",
    "            pbar.set_description(f'loss:{loss_item: .5f}  Accuracy:{acc_current: .3f}')\n",
    "            x=0\n",
    "        x+=1\n",
    "    print(\"%.3f\" % (loss_val/len(dataloader)))\n",
    "    print(\"%.3f\" % (acc_val/len(dataloader)))"
   ]
  },
  {
   "cell_type": "code",
   "execution_count": 18,
   "id": "ac87e7a7",
   "metadata": {},
   "outputs": [
    {
     "data": {
      "text/plain": [
       "1.0"
      ]
     },
     "execution_count": 18,
     "metadata": {},
     "output_type": "execute_result"
    }
   ],
   "source": [
    "accuracy(prediction.cpu(), label.cpu())"
   ]
  },
  {
   "cell_type": "code",
   "execution_count": 19,
   "id": "a052f96d",
   "metadata": {},
   "outputs": [],
   "source": [
    "def count_parametrs(model):\n",
    "    return sum(p.numel() for p in model.parameters() if p.requires_grad)"
   ]
  },
  {
   "cell_type": "code",
   "execution_count": 20,
   "id": "75281b14",
   "metadata": {},
   "outputs": [
    {
     "data": {
      "text/plain": [
       "199210"
      ]
     },
     "execution_count": 20,
     "metadata": {},
     "output_type": "execute_result"
    }
   ],
   "source": [
    "count_parametrs(model)"
   ]
  },
  {
   "cell_type": "code",
   "execution_count": null,
   "id": "f893587a",
   "metadata": {},
   "outputs": [],
   "source": []
  },
  {
   "cell_type": "code",
   "execution_count": null,
   "id": "57ede566",
   "metadata": {},
   "outputs": [],
   "source": []
  }
 ],
 "metadata": {
  "kernelspec": {
   "display_name": "Python 3 (ipykernel)",
   "language": "python",
   "name": "python3"
  },
  "language_info": {
   "codemirror_mode": {
    "name": "ipython",
    "version": 3
   },
   "file_extension": ".py",
   "mimetype": "text/x-python",
   "name": "python",
   "nbconvert_exporter": "python",
   "pygments_lexer": "ipython3",
   "version": "3.9.16"
  }
 },
 "nbformat": 4,
 "nbformat_minor": 5
}
